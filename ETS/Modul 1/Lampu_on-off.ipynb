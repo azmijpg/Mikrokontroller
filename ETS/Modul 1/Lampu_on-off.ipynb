{
 "cells": [
  {
   "cell_type": "code",
   "execution_count": null,
   "id": "581f6f89-e029-49cc-ad1a-e64a6566f1c7",
   "metadata": {},
   "outputs": [
    {
     "name": "stdin",
     "output_type": "stream",
     "text": [
      "Kirimkan perintah (1/0):  1\n",
      "Kirimkan perintah (1/0):  0\n",
      "Kirimkan perintah (1/0):  1\n",
      "Kirimkan perintah (1/0):  0\n",
      "Kirimkan perintah (1/0):  1\n",
      "Kirimkan perintah (1/0):  0\n",
      "Kirimkan perintah (1/0):  1\n",
      "Kirimkan perintah (1/0):  0\n",
      "Kirimkan perintah (1/0):  1\n",
      "Kirimkan perintah (1/0):  0\n"
     ]
    }
   ],
   "source": [
    "import serial\n",
    "#arduinoData = serial.Serial('/dev/ttyACM1', 9600)\n",
    "arduinoData = serial.Serial('COM5', 115200, timeout=0)\n",
    "\n",
    "while True:\n",
    "    myData = input('Kirimkan perintah (1/0): ')  \n",
    "    if myData == \"1\":\n",
    "        arduinoData.write(b'1')\n",
    "    elif myData == \"0\":  \n",
    "        arduinoData.write(b'0')"
   ]
  },
  {
   "cell_type": "code",
   "execution_count": null,
   "id": "3411093d-6a80-4986-9acf-7165a83ea2ce",
   "metadata": {},
   "outputs": [],
   "source": []
  }
 ],
 "metadata": {
  "kernelspec": {
   "display_name": "Python 3 (ipykernel)",
   "language": "python",
   "name": "python3"
  },
  "language_info": {
   "codemirror_mode": {
    "name": "ipython",
    "version": 3
   },
   "file_extension": ".py",
   "mimetype": "text/x-python",
   "name": "python",
   "nbconvert_exporter": "python",
   "pygments_lexer": "ipython3",
   "version": "3.13.3"
  }
 },
 "nbformat": 4,
 "nbformat_minor": 5
}
